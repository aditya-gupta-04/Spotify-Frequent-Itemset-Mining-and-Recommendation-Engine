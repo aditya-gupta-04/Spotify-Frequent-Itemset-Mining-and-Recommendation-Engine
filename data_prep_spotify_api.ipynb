{
 "cells": [
  {
   "cell_type": "code",
   "execution_count": 1,
   "metadata": {},
   "outputs": [
    {
     "name": "stderr",
     "output_type": "stream",
     "text": [
      "/Users/adityagupta/pytorch-test/env/lib/python3.8/site-packages/pinecone/index.py:4: TqdmExperimentalWarning: Using `tqdm.autonotebook.tqdm` in notebook mode. Use `tqdm.tqdm` instead to force console mode (e.g. in jupyter console)\n",
      "  from tqdm.autonotebook import tqdm\n"
     ]
    }
   ],
   "source": [
    "import numpy as np\n",
    "import pandas as pd\n",
    "import matplotlib.pyplot as plt\n",
    "from tqdm import tqdm\n",
    "import json\n",
    "import time\n",
    "import os\n",
    "\n",
    "from pyspark import SparkContext\n",
    "\n",
    "import spotipy\n",
    "import spotipy.oauth2 as oauth2\n",
    "from spotipy.oauth2 import SpotifyOAuth,SpotifyClientCredentials\n",
    "\n",
    "import pinecone"
   ]
  },
  {
   "cell_type": "code",
   "execution_count": 2,
   "metadata": {},
   "outputs": [],
   "source": [
    "spotify_details = {\n",
    "    'Client_id': '16d7d284a7734668ae40098fc56881e8',\n",
    "    'client_secret': '25f9c87708aa441cb46d1a273a7840fd'\n",
    "}\n",
    "\n",
    "auth_manager = SpotifyClientCredentials(client_id=spotify_details['Client_id'], client_secret=spotify_details['client_secret'])\n",
    "sp = spotipy.client.Spotify(auth_manager=auth_manager)"
   ]
  },
  {
   "cell_type": "code",
   "execution_count": 3,
   "metadata": {},
   "outputs": [
    {
     "name": "stdout",
     "output_type": "stream",
     "text": [
      "Old Town Road - 2019 spotify:track:0F7FA14euOIX8KcbEturGH\n",
      "Old Road - 2020 spotify:track:6BlGcNxBiaKR0BL81Wo4Xn\n",
      "Old Town Road - Remix - 2019 spotify:track:2YpeDb67231RjR0MgVLzsG\n",
      "Old Road - 2022 spotify:track:7snpxj9bTICE2VIlOzBLRP\n",
      "Old Dirt Roads - 2023 spotify:track:0ayd4fDb6rMZl9uqCY3Hzl\n",
      "Old Roads and Old Friends - 2023 spotify:track:5YsUIieJ340lBw8eQuG8Hf\n",
      "Old Town Road - 2019 spotify:track:07cQIm99dnNSKs6skathg0\n",
      "Old Road - 1969 spotify:track:6zS6G60qHcCOtmRQa427Ja\n",
      "Old Road - 2022 spotify:track:18LumWwIv35eEuJ7bjccv0\n",
      "On the Road Again - 2001 spotify:track:3MpK9vnxxgYvh0CNeGvx6G\n"
     ]
    }
   ],
   "source": [
    "# sp.tracks([\"2qWgqPdW1OiAP8KSBH1b93\", \"2PTf3zh9UUsgdxQ5b0eXg8\", \"7tIJDktakabGoHjwTTa35W\"])['tracks'][0]\n",
    "ls = sp.search('old road')['tracks']['items']\n",
    "for track in ls:\n",
    "    print(track['name'] + \" - \" + track['album']['release_date'][:4], track['uri'])\n",
    "\n",
    "# ls"
   ]
  },
  {
   "cell_type": "code",
   "execution_count": 4,
   "metadata": {},
   "outputs": [],
   "source": [
    "# data_dict = {}\n",
    "\n",
    "# with open(\"mpd.slice.0-999.json\") as file:\n",
    "# \tdata = json.load(file)\n",
    "\n",
    "# for playlist in tqdm(data['playlists']):\n",
    "#     pid = playlist['pid']\n",
    "#     data_dict[pid] = []\n",
    "#     for tracks in playlist['tracks']:\n",
    "#         data_dict[pid].append(tracks['track_uri'].split(':')[-1])\n",
    "\n",
    "# with open('comprsd.json', 'w') as fp:\n",
    "#     json.dump(data_dict, fp)"
   ]
  },
  {
   "cell_type": "code",
   "execution_count": 4,
   "metadata": {},
   "outputs": [
    {
     "name": "stderr",
     "output_type": "stream",
     "text": [
      "  0%|                                                    | 0/11 [00:00<?, ?it/s]"
     ]
    },
    {
     "name": "stderr",
     "output_type": "stream",
     "text": [
      "100%|███████████████████████████████████████████| 11/11 [00:01<00:00,  7.96it/s]"
     ]
    },
    {
     "name": "stdout",
     "output_type": "stream",
     "text": [
      "170089 Unique Tracks\n"
     ]
    },
    {
     "name": "stderr",
     "output_type": "stream",
     "text": [
      "\n"
     ]
    }
   ],
   "source": [
    "def get_slice_tracks(input_dir):\n",
    "\n",
    "    track_list = []\n",
    "\n",
    "    for file_name in tqdm(os.listdir(input_dir)):\n",
    "        if file_name.split('.')[-1] != 'json':\n",
    "            continue\n",
    "\n",
    "        with open(os.path.join(input_dir, file_name)) as file:\n",
    "            data = json.load(file)\n",
    "\n",
    "        for playlist in data['playlists']:\n",
    "            for tracks in playlist['tracks']:\n",
    "                track_list.append(tracks['track_uri'].split(':')[-1])\n",
    "\n",
    "    track_list = list(set(track_list))\n",
    "    return track_list\n",
    "\n",
    "slice_dir_tracks = get_slice_tracks(\"data10\")\n",
    "print(f\"{len(slice_dir_tracks)} Unique Tracks\")"
   ]
  },
  {
   "cell_type": "code",
   "execution_count": 5,
   "metadata": {},
   "outputs": [],
   "source": [
    "def get_features(tracks, window_size=50):\n",
    "\n",
    "    dropped_row_counter = 0\n",
    "    df = pd.DataFrame()\n",
    "\n",
    "    for i in tqdm(range(0, len(tracks), window_size)):\n",
    "\n",
    "        try:        \n",
    "            audio_features = pd.DataFrame([t for t in sp.audio_features(tracks[i:i+window_size]) if t != None])\n",
    "            track_features = pd.DataFrame([t for t in sp.tracks(tracks[i:i+window_size])['tracks'] if t != None])\n",
    "\n",
    "            track_features['release_year'] = track_features['album'].apply(lambda x: (int(x['release_date'][:4]) - 1950)/70)\n",
    "            track_features['popularity'] = track_features['popularity'].apply(lambda x: x/100)\n",
    "            track_features['explicit'] = track_features['explicit'].astype(int)\n",
    "            track_features = track_features[['explicit', 'popularity', 'release_year', 'id']]\n",
    "            \n",
    "            audio_features.drop(['type', 'uri', 'track_href', 'analysis_url', 'duration_ms'], axis='columns', inplace=True)\n",
    "            audio_features['loudness'] = audio_features['loudness'].apply(lambda x: (x+60)/60)\n",
    "            audio_features['tempo'] = audio_features['tempo'].apply(lambda x: x/300)\n",
    "            audio_features['time_signature'] = audio_features['time_signature'].apply(lambda x: (x-3)/4)\n",
    "            audio_features['key'] = audio_features['key'].apply(lambda x: np.power(2, (x-12)/12))     # Converting key to frequency ratio wrt max key\n",
    "\n",
    "            all_fts = pd.merge(audio_features, track_features, on='id', how='inner')\n",
    "            df = pd.concat([df, all_fts])\n",
    "\n",
    "            if all_fts.shape[0] != window_size:\n",
    "                dropped_row_counter += window_size - all_fts.shape[0]\n",
    "                print(f\"{window_size - all_fts.shape[0]} rows dropped in section {i}-{i+window_size}\")\n",
    "        except:\n",
    "            print(f\"{i}-{i+window_size} section failed\")\n",
    "            pass\n",
    "    \n",
    "    return df"
   ]
  },
  {
   "cell_type": "code",
   "execution_count": 6,
   "metadata": {},
   "outputs": [],
   "source": [
    "# slice10_fts = get_features(slice_dir_tracks).reset_index(drop=True)"
   ]
  },
  {
   "cell_type": "code",
   "execution_count": 8,
   "metadata": {},
   "outputs": [],
   "source": [
    "# slice10_fts\n",
    "#  first_slice_fts.to_csv('first_slice_fts.csv', index=False)"
   ]
  },
  {
   "cell_type": "markdown",
   "metadata": {},
   "source": [
    "# Search method"
   ]
  },
  {
   "cell_type": "code",
   "execution_count": 9,
   "metadata": {},
   "outputs": [],
   "source": [
    "db =  pd.read_csv('first_slice_fts.csv')\n",
    "mean_vector = db.drop('id', axis='columns').mean()\n",
    "db[list(set(db.columns) - {'id'})] -= mean_vector"
   ]
  },
  {
   "cell_type": "code",
   "execution_count": 10,
   "metadata": {},
   "outputs": [
    {
     "name": "stdout",
     "output_type": "stream",
     "text": [
      "(34441, 16)\n"
     ]
    },
    {
     "data": {
      "text/html": [
       "<div>\n",
       "<style scoped>\n",
       "    .dataframe tbody tr th:only-of-type {\n",
       "        vertical-align: middle;\n",
       "    }\n",
       "\n",
       "    .dataframe tbody tr th {\n",
       "        vertical-align: top;\n",
       "    }\n",
       "\n",
       "    .dataframe thead th {\n",
       "        text-align: right;\n",
       "    }\n",
       "</style>\n",
       "<table border=\"1\" class=\"dataframe\">\n",
       "  <thead>\n",
       "    <tr style=\"text-align: right;\">\n",
       "      <th></th>\n",
       "      <th>danceability</th>\n",
       "      <th>energy</th>\n",
       "      <th>key</th>\n",
       "      <th>loudness</th>\n",
       "      <th>mode</th>\n",
       "      <th>speechiness</th>\n",
       "      <th>acousticness</th>\n",
       "      <th>instrumentalness</th>\n",
       "      <th>liveness</th>\n",
       "      <th>valence</th>\n",
       "      <th>tempo</th>\n",
       "      <th>id</th>\n",
       "      <th>time_signature</th>\n",
       "      <th>explicit</th>\n",
       "      <th>popularity</th>\n",
       "      <th>release_year</th>\n",
       "    </tr>\n",
       "  </thead>\n",
       "  <tbody>\n",
       "    <tr>\n",
       "      <th>0</th>\n",
       "      <td>-0.010724</td>\n",
       "      <td>0.116427</td>\n",
       "      <td>-0.022902</td>\n",
       "      <td>0.010473</td>\n",
       "      <td>0.334863</td>\n",
       "      <td>-0.045186</td>\n",
       "      <td>0.046229</td>\n",
       "      <td>-0.076971</td>\n",
       "      <td>0.005533</td>\n",
       "      <td>0.477891</td>\n",
       "      <td>0.242660</td>\n",
       "      <td>5iXswDMklrAlNLEJ4XCHTY</td>\n",
       "      <td>0.018568</td>\n",
       "      <td>-0.182167</td>\n",
       "      <td>-0.160615</td>\n",
       "      <td>-0.233241</td>\n",
       "    </tr>\n",
       "    <tr>\n",
       "      <th>1</th>\n",
       "      <td>-0.164724</td>\n",
       "      <td>0.332427</td>\n",
       "      <td>-0.160591</td>\n",
       "      <td>0.074489</td>\n",
       "      <td>0.334863</td>\n",
       "      <td>-0.033186</td>\n",
       "      <td>-0.263742</td>\n",
       "      <td>-0.068361</td>\n",
       "      <td>0.181533</td>\n",
       "      <td>-0.304109</td>\n",
       "      <td>0.174500</td>\n",
       "      <td>4Y2glvLjQGOb4dXnwm1hQf</td>\n",
       "      <td>0.018568</td>\n",
       "      <td>-0.182167</td>\n",
       "      <td>0.349385</td>\n",
       "      <td>0.038188</td>\n",
       "    </tr>\n",
       "    <tr>\n",
       "      <th>2</th>\n",
       "      <td>0.199276</td>\n",
       "      <td>-0.253573</td>\n",
       "      <td>-0.190322</td>\n",
       "      <td>-0.043077</td>\n",
       "      <td>0.334863</td>\n",
       "      <td>0.071714</td>\n",
       "      <td>0.371229</td>\n",
       "      <td>-0.055371</td>\n",
       "      <td>0.171533</td>\n",
       "      <td>0.311891</td>\n",
       "      <td>-0.082437</td>\n",
       "      <td>7t8AhVb1nd1SOhutQgM62H</td>\n",
       "      <td>0.018568</td>\n",
       "      <td>-0.182167</td>\n",
       "      <td>-0.280615</td>\n",
       "      <td>0.081045</td>\n",
       "    </tr>\n",
       "  </tbody>\n",
       "</table>\n",
       "</div>"
      ],
      "text/plain": [
       "   danceability    energy       key  loudness      mode  speechiness  \\\n",
       "0     -0.010724  0.116427 -0.022902  0.010473  0.334863    -0.045186   \n",
       "1     -0.164724  0.332427 -0.160591  0.074489  0.334863    -0.033186   \n",
       "2      0.199276 -0.253573 -0.190322 -0.043077  0.334863     0.071714   \n",
       "\n",
       "   acousticness  instrumentalness  liveness   valence     tempo  \\\n",
       "0      0.046229         -0.076971  0.005533  0.477891  0.242660   \n",
       "1     -0.263742         -0.068361  0.181533 -0.304109  0.174500   \n",
       "2      0.371229         -0.055371  0.171533  0.311891 -0.082437   \n",
       "\n",
       "                       id  time_signature  explicit  popularity  release_year  \n",
       "0  5iXswDMklrAlNLEJ4XCHTY        0.018568 -0.182167   -0.160615     -0.233241  \n",
       "1  4Y2glvLjQGOb4dXnwm1hQf        0.018568 -0.182167    0.349385      0.038188  \n",
       "2  7t8AhVb1nd1SOhutQgM62H        0.018568 -0.182167   -0.280615      0.081045  "
      ]
     },
     "execution_count": 10,
     "metadata": {},
     "output_type": "execute_result"
    }
   ],
   "source": [
    "print(db.shape)\n",
    "db.head(3)"
   ]
  },
  {
   "cell_type": "code",
   "execution_count": 11,
   "metadata": {},
   "outputs": [],
   "source": [
    "def get_vector(vec):\n",
    "    cols = ['danceability', 'energy', 'key', 'loudness', 'mode', 'speechiness',\n",
    "       'acousticness', 'instrumentalness', 'liveness', 'valence', 'tempo',\n",
    "       'time_signature', 'explicit', 'popularity', 'release_year']\n",
    "\n",
    "    return np.array(vec[cols])"
   ]
  },
  {
   "cell_type": "markdown",
   "metadata": {},
   "source": [
    "# Pinecone"
   ]
  },
  {
   "cell_type": "code",
   "execution_count": 12,
   "metadata": {},
   "outputs": [],
   "source": [
    "PINECONE_API_KEY = 'd5018bce-8fb3-4c62-8527-18621cd84f7e'\n",
    "PINECONE_ENV = 'gcp-starter'\n",
    "\n",
    "pinecone.init(\n",
    "    api_key=PINECONE_API_KEY,\n",
    "    environment=PINECONE_ENV\n",
    ")"
   ]
  },
  {
   "cell_type": "code",
   "execution_count": 13,
   "metadata": {},
   "outputs": [],
   "source": [
    "INDEX_NAME = 'vector-similarity-search-spotify'\n",
    "DIMS = db.shape[1] - 1\n",
    "\n",
    "if INDEX_NAME not in pinecone.list_indexes():\n",
    "    pinecone.create_index(\n",
    "        name=INDEX_NAME,\n",
    "        dimension=DIMS,\n",
    "        metric='cosine'\n",
    "    )\n",
    "\n",
    "pinecone_index = pinecone.GRPCIndex(INDEX_NAME)"
   ]
  },
  {
   "cell_type": "code",
   "execution_count": 14,
   "metadata": {},
   "outputs": [],
   "source": [
    "def upload_pinecone(df, index):\n",
    "\n",
    "    for idx in tqdm(range(0, df.shape[0], 100)):\n",
    "\n",
    "        upload_list = []\n",
    "        for i in range(idx, idx+100):\n",
    "            try:\n",
    "                upload_list.append({'id':df.loc[i, 'id'], 'values': get_vector(df.loc[i])})\n",
    "            except:\n",
    "                pass\n",
    "\n",
    "        index.upsert(upload_list)\n",
    "        \n",
    "# upload_pinecone(db, pinecone_index)"
   ]
  },
  {
   "cell_type": "code",
   "execution_count": 15,
   "metadata": {},
   "outputs": [
    {
     "data": {
      "text/plain": [
       "{'matches': [{'id': '5Q0Nhxo0l2bP3pNjpGJwV1',\n",
       "              'metadata': {},\n",
       "              'score': 0.99861234,\n",
       "              'sparse_values': {'indices': [], 'values': []},\n",
       "              'values': []},\n",
       "             {'id': '4JQSMg83F8qYwSBt5xOXsQ',\n",
       "              'metadata': {},\n",
       "              'score': 0.9883547,\n",
       "              'sparse_values': {'indices': [], 'values': []},\n",
       "              'values': []},\n",
       "             {'id': '2Bs4jQEGMycglOfWPBqrVG',\n",
       "              'metadata': {},\n",
       "              'score': 0.9817177,\n",
       "              'sparse_values': {'indices': [], 'values': []},\n",
       "              'values': []},\n",
       "             {'id': '6JY1IdkZGeIcPegKxjSKeb',\n",
       "              'metadata': {},\n",
       "              'score': 0.98066634,\n",
       "              'sparse_values': {'indices': [], 'values': []},\n",
       "              'values': []},\n",
       "             {'id': '6RUKPb4LETWmmr3iAEQktW',\n",
       "              'metadata': {},\n",
       "              'score': 0.9788617,\n",
       "              'sparse_values': {'indices': [], 'values': []},\n",
       "              'values': []},\n",
       "             {'id': '0JXXNGljqupsJaZsgSbMZV',\n",
       "              'metadata': {},\n",
       "              'score': 0.97688454,\n",
       "              'sparse_values': {'indices': [], 'values': []},\n",
       "              'values': []},\n",
       "             {'id': '6ZANrVuAMp2rpjhfbOuJly',\n",
       "              'metadata': {},\n",
       "              'score': 0.97491217,\n",
       "              'sparse_values': {'indices': [], 'values': []},\n",
       "              'values': []},\n",
       "             {'id': '2GvI8j0DaIAGvubj5NinEF',\n",
       "              'metadata': {},\n",
       "              'score': 0.9743282,\n",
       "              'sparse_values': {'indices': [], 'values': []},\n",
       "              'values': []},\n",
       "             {'id': '26uWcFPeunNydCH7rl7nyA',\n",
       "              'metadata': {},\n",
       "              'score': 0.97368896,\n",
       "              'sparse_values': {'indices': [], 'values': []},\n",
       "              'values': []},\n",
       "             {'id': '2takcwOaAZWiXQijPHIx7B',\n",
       "              'metadata': {},\n",
       "              'score': 0.97347134,\n",
       "              'sparse_values': {'indices': [], 'values': []},\n",
       "              'values': []},\n",
       "             {'id': '2DgdHcjWmO3qd50RzuBLgZ',\n",
       "              'metadata': {},\n",
       "              'score': 0.97228897,\n",
       "              'sparse_values': {'indices': [], 'values': []},\n",
       "              'values': []},\n",
       "             {'id': '1gOVlit7zHwuKv8HVta06I',\n",
       "              'metadata': {},\n",
       "              'score': 0.97167414,\n",
       "              'sparse_values': {'indices': [], 'values': []},\n",
       "              'values': []},\n",
       "             {'id': '3ojTJaonfkL96iIWa47SU3',\n",
       "              'metadata': {},\n",
       "              'score': 0.97102696,\n",
       "              'sparse_values': {'indices': [], 'values': []},\n",
       "              'values': []},\n",
       "             {'id': '2V65y3PX4DkRhy1djlxd9p',\n",
       "              'metadata': {},\n",
       "              'score': 0.9709147,\n",
       "              'sparse_values': {'indices': [], 'values': []},\n",
       "              'values': []},\n",
       "             {'id': '48UPSzbZjgc449aqz8bxox',\n",
       "              'metadata': {},\n",
       "              'score': 0.97024983,\n",
       "              'sparse_values': {'indices': [], 'values': []},\n",
       "              'values': []},\n",
       "             {'id': '2ekn2ttSfGqwhhate0LSR0',\n",
       "              'metadata': {},\n",
       "              'score': 0.9701795,\n",
       "              'sparse_values': {'indices': [], 'values': []},\n",
       "              'values': []},\n",
       "             {'id': '1KGi9sZVMeszgZOWivFpxs',\n",
       "              'metadata': {},\n",
       "              'score': 0.969365,\n",
       "              'sparse_values': {'indices': [], 'values': []},\n",
       "              'values': []},\n",
       "             {'id': '1eyzqe2QqGZUmfcPZtrIyt',\n",
       "              'metadata': {},\n",
       "              'score': 0.96921086,\n",
       "              'sparse_values': {'indices': [], 'values': []},\n",
       "              'values': []},\n",
       "             {'id': '02M6vucOvmRfMxTXDUwRXu',\n",
       "              'metadata': {},\n",
       "              'score': 0.96894914,\n",
       "              'sparse_values': {'indices': [], 'values': []},\n",
       "              'values': []},\n",
       "             {'id': '5ZkAx8zjLiSs1nMmBwJoZS',\n",
       "              'metadata': {},\n",
       "              'score': 0.96600306,\n",
       "              'sparse_values': {'indices': [], 'values': []},\n",
       "              'values': []}],\n",
       " 'namespace': ''}"
      ]
     },
     "execution_count": 15,
     "metadata": {},
     "output_type": "execute_result"
    }
   ],
   "source": [
    "pinecone_index.query(id='5Q0Nhxo0l2bP3pNjpGJwV1', top_k=20)"
   ]
  },
  {
   "cell_type": "code",
   "execution_count": null,
   "metadata": {},
   "outputs": [],
   "source": []
  }
 ],
 "metadata": {
  "kernelspec": {
   "display_name": "Python 3 (ipykernel)",
   "language": "python",
   "name": "python3"
  },
  "language_info": {
   "codemirror_mode": {
    "name": "ipython",
    "version": 3
   },
   "file_extension": ".py",
   "mimetype": "text/x-python",
   "name": "python",
   "nbconvert_exporter": "python",
   "pygments_lexer": "ipython3",
   "version": "3.8.15"
  }
 },
 "nbformat": 4,
 "nbformat_minor": 2
}
